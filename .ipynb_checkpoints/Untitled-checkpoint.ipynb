{
 "cells": [
  {
   "cell_type": "code",
   "execution_count": 2,
   "metadata": {},
   "outputs": [],
   "source": [
    "import json \n",
    "import pickle\n",
    "\n",
    "import os\n",
    "import pandas as pd\n",
    "\n",
    "import warnings\n",
    "warnings.filterwarnings(action='ignore')\n",
    "\n",
    "from tqdm import tqdm, notebook\n",
    "\n",
    "import pandas as pd\n",
    "import numpy as np \n",
    "from sklearn.preprocessing import StandardScaler\n",
    "from sklearn.neighbors import KNeighborsClassifier\n",
    "from sklearn.linear_model import LogisticRegression\n",
    "from sklearn.ensemble import RandomForestClassifier\n",
    "from sklearn.svm import SVC\n",
    "\n",
    "from xgboost import XGBClassifier\n",
    "#from lightgbm import LGBMClassifier\n",
    "from sklearn.ensemble import GradientBoostingClassifier\n",
    "from sklearn.ensemble import ExtraTreesClassifier\n",
    "from sklearn.ensemble import AdaBoostClassifier\n",
    "from sklearn.gaussian_process import GaussianProcessClassifier\n",
    "from sklearn.naive_bayes import GaussianNB\n",
    "from sklearn.ensemble import BaggingClassifier\n",
    "from sklearn.ensemble import VotingClassifier\n",
    "\n",
    "from sklearn.model_selection import cross_val_score\n",
    "from sklearn.model_selection import cross_val_predict\n",
    "from sklearn import model_selection\n",
    "\n",
    "from preprocess import feature_select, sample_generate , replace_outlier\n",
    "from scaling import standardize_select, normalize_select\n",
    "from load import dataloader\n",
    "\n",
    "from sklearn.preprocessing import StandardScaler\n",
    "\n",
    "from sklearn.model_selection import StratifiedKFold\n",
    "from sklearn.metrics import accuracy_score\n",
    "\n"
   ]
  },
  {
   "cell_type": "code",
   "execution_count": 3,
   "metadata": {},
   "outputs": [],
   "source": [
    "models = {\n",
    "   \"Ran\":RandomForestClassifier(),\n",
    "   #\"KNN\":KNeighborsClassifier(),\n",
    "   #\"Log\":LogisticRegression(),\n",
    "   #\"SVC\":SVC(probability=True),\n",
    "   #\"Ada\":AdaBoostClassifier(),\n",
    "   #\"GNB\":GaussianNB(),\n",
    "   #\"Bag\":BaggingClassifier(),\n",
    "   #\"XGB\":XGBClassifier(),\n",
    "   #\"LGB\":LGBMClassifier()\n",
    "}"
   ]
  },
  {
   "cell_type": "code",
   "execution_count": 15,
   "metadata": {},
   "outputs": [],
   "source": [
    "seed = 2\n",
    "datadir = './data'\n",
    "logdir = './logs'\n",
    "savedir = './save'\n",
    "kfold = 5\n",
    "fsmethod = 'SelectKBest'\n",
    "featurenum = 100\n",
    "standardize = 'Standard'\n",
    "normalize = 'Normalizer'\n",
    "rfestep = 0.005"
   ]
  },
  {
   "cell_type": "code",
   "execution_count": 16,
   "metadata": {},
   "outputs": [
    {
     "name": "stderr",
     "output_type": "stream",
     "text": [
      "100%|████████████████████████████████████████████████████████████████████████████████████| 1/1 [00:07<00:00,  7.70s/it]\n",
      "100%|████████████████████████████████████████████████████████████████████████████████████| 1/1 [00:08<00:00,  8.34s/it]\n",
      "100%|████████████████████████████████████████████████████████████████████████████████████| 1/1 [00:07<00:00,  7.95s/it]\n",
      "100%|████████████████████████████████████████████████████████████████████████████████████| 1/1 [00:07<00:00,  7.94s/it]\n",
      "100%|████████████████████████████████████████████████████████████████████████████████████| 1/1 [00:07<00:00,  7.95s/it]\n"
     ]
    }
   ],
   "source": [
    "results_val = []\n",
    "\n",
    "skf = StratifiedKFold(n_splits = kfold, shuffle = True, random_state = seed)\n",
    "\n",
    "i = 0\n",
    "data = pd.read_csv('./data/LUADLUSC_float32.tsv',sep = '\\t')\n",
    "data_copy = data.copy()\n",
    "data_copy.set_index('sample', inplace = True)\n",
    "\n",
    "X = data_copy.iloc[:,:-1]\n",
    "y_target = data_copy.iloc[:,-1]\n",
    "\n",
    "\n",
    "for train_idx,val_idx in skf.split(X,y_target):  \n",
    "    for model_name, model in tqdm(models.items()):\n",
    "\n",
    "            x_train = X.iloc[train_idx, :]\n",
    "            y_train = y_target.iloc[train_idx]\n",
    "\n",
    "            x_val = X.iloc[val_idx, :]\n",
    "            y_val = y_target.iloc[val_idx]\n",
    "\n",
    "            # feature standardize\n",
    "            #x_train, x_val = standardize_select(standardize ,x_train, x_val)\n",
    "\n",
    "            # feature select\n",
    "            x_train, x_val = feature_select(fsmethod ,featurenum , rfestep, x_train, y_train, x_val)\n",
    "\n",
    "            # outlier replace\n",
    "            x_train, x_val = replace_outlier(x_train, x_val)\n",
    "\n",
    "            # feature normalize\n",
    "            x_train, x_val = normalize_select(normalize ,x_train, x_val)\n",
    "\n",
    "\n",
    "            # sample generate\n",
    "            x_train, y_train = sample_generate(x_train, y_train)\n",
    "\n",
    "            # model training\n",
    "            model = model.fit(x_train, y_train)\n",
    "\n",
    "            # validation score\n",
    "            y_pred_val = model.predict(x_val)\n",
    "            accuracy_val = accuracy_score(y_val, y_pred_val)\n",
    "            results_val.append([i,accuracy_val, model_name])\n",
    "\n",
    "\n",
    "    i += 1\n",
    "\n",
    "df_results = pd.DataFrame(data = results_val, columns = ['iter','val_acc','model'])\n",
    "pickle.dump(df_results, open(os.path.join(logdir, f'validation_results{seed}_{fsmethod}.pkl'),'wb'))\n"
   ]
  },
  {
   "cell_type": "markdown",
   "metadata": {},
   "source": [
    "# validation results"
   ]
  },
  {
   "cell_type": "code",
   "execution_count": 17,
   "metadata": {},
   "outputs": [],
   "source": [
    "results_ran = pd.read_pickle('./logs/validation_results1_ensemble_Ran.pkl')\n",
    "results_knn = pd.read_pickle('./logs/validation_results1_ensemble_KNN.pkl')\n",
    "results_log = pd.read_pickle('./logs/validation_results1_ensemble_Log.pkl')\n",
    "results_svc = pd.read_pickle('./logs/validation_results1_ensemble_SVC.pkl')\n",
    "results_ada = pd.read_pickle('./logs/validation_results1_ensemble_Ada.pkl')\n",
    "results_gnb = pd.read_pickle('./logs/validation_results1_ensemble_GNB.pkl')\n",
    "results_bag = pd.read_pickle('./logs/validation_results1_ensemble_Bag.pkl')\n"
   ]
  },
  {
   "cell_type": "code",
   "execution_count": 19,
   "metadata": {},
   "outputs": [
    {
     "data": {
      "text/html": [
       "<div>\n",
       "<style scoped>\n",
       "    .dataframe tbody tr th:only-of-type {\n",
       "        vertical-align: middle;\n",
       "    }\n",
       "\n",
       "    .dataframe tbody tr th {\n",
       "        vertical-align: top;\n",
       "    }\n",
       "\n",
       "    .dataframe thead th {\n",
       "        text-align: right;\n",
       "    }\n",
       "</style>\n",
       "<table border=\"1\" class=\"dataframe\">\n",
       "  <thead>\n",
       "    <tr style=\"text-align: right;\">\n",
       "      <th></th>\n",
       "      <th>iter</th>\n",
       "      <th>val_acc</th>\n",
       "      <th>model</th>\n",
       "    </tr>\n",
       "  </thead>\n",
       "  <tbody>\n",
       "    <tr>\n",
       "      <th>0</th>\n",
       "      <td>0</td>\n",
       "      <td>0.877451</td>\n",
       "      <td>Ran</td>\n",
       "    </tr>\n",
       "    <tr>\n",
       "      <th>1</th>\n",
       "      <td>1</td>\n",
       "      <td>0.897059</td>\n",
       "      <td>Ran</td>\n",
       "    </tr>\n",
       "    <tr>\n",
       "      <th>2</th>\n",
       "      <td>2</td>\n",
       "      <td>0.882353</td>\n",
       "      <td>Ran</td>\n",
       "    </tr>\n",
       "    <tr>\n",
       "      <th>3</th>\n",
       "      <td>3</td>\n",
       "      <td>0.842365</td>\n",
       "      <td>Ran</td>\n",
       "    </tr>\n",
       "    <tr>\n",
       "      <th>4</th>\n",
       "      <td>4</td>\n",
       "      <td>0.847291</td>\n",
       "      <td>Ran</td>\n",
       "    </tr>\n",
       "  </tbody>\n",
       "</table>\n",
       "</div>"
      ],
      "text/plain": [
       "   iter   val_acc model\n",
       "0     0  0.877451   Ran\n",
       "1     1  0.897059   Ran\n",
       "2     2  0.882353   Ran\n",
       "3     3  0.842365   Ran\n",
       "4     4  0.847291   Ran"
      ]
     },
     "execution_count": 19,
     "metadata": {},
     "output_type": "execute_result"
    }
   ],
   "source": [
    "results_ran"
   ]
  },
  {
   "cell_type": "raw",
   "metadata": {},
   "source": []
  }
 ],
 "metadata": {
  "kernelspec": {
   "display_name": "Python 3",
   "language": "python",
   "name": "python3"
  },
  "language_info": {
   "codemirror_mode": {
    "name": "ipython",
    "version": 3
   },
   "file_extension": ".py",
   "mimetype": "text/x-python",
   "name": "python",
   "nbconvert_exporter": "python",
   "pygments_lexer": "ipython3",
   "version": "3.8.5"
  }
 },
 "nbformat": 4,
 "nbformat_minor": 4
}
